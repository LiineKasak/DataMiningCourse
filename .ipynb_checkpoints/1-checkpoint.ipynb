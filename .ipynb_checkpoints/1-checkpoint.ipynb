{
 "cells": [
  {
   "cell_type": "markdown",
   "metadata": {},
   "source": [
    "# Sissejuhatus Jupyteri\n",
    "\n",
    "\n",
    "See märkmik on lühikeseks sissejuhatuseks Jupyteri märkmike juurde.\n",
    "\n",
    "\n",
    "\n",
    "## Üldotstarbeline programmeerimine vs andmeanalüüs ja teaduslik programmeerimine\n",
    "\n",
    "Üldotstarbelise programmi funktsionaalsust käivitatakse palju kordi. Vastasel juhul ei oleks selle arendamine aja- ega kuluefektiivne. Programmeerijat ei huvita konkreetne sisend ja konkreetne väljund: mis konkreetset dokumenti tekstitöötlusprogrammi kasutaja kirjutab, kui palju on pangasüsteemi kasutaja kontol raha jne. Funktsionaalsus on üldine.\n",
    "\n",
    "Andmeanalüüsi korral käivitatakse sama programmijuppi üks või väike arv kordi. Väljund, mis konkreetsets andmete põhjal saadakse võib mõjutada, mida andmeanalüütik soovib järgnevalt teha. Lisaks on mõistlik hoida väljund ja programm, mis selle tekitas, ühes kohas, sest andmeanalüüs võib anda väljundiks sadu tabeleid ja pilte. Kui see on programmikoodist lahus siis tekivad küsimused: Mis on selle väljundi sisu? Kuidas see tulemus saadi? Mis andmete põhjal? Kuidas seda jagada? Verifitseerimine ja korratavus on siin olulised.\n",
    "\n",
    "Samuti on andmeanalüüsis vähem vaja keeruka programmi haldamisega seotud võtteid, nagu funktsioonid, klassid, moodulid, mustrid jne. Seega ei ole vaja professionaalse programmeerija oskuseid vaid baasteadmiseid programmeerimisest. Rõhk on matemaatilis-statistiliste meetodite valdamisel.\n",
    "\n",
    "**Järeldus: andmeanalüüs vajab erinevaid vahendeid kui üldotstarbeline programmeerimine.**"
   ]
  },
  {
   "cell_type": "markdown",
   "metadata": {},
   "source": [
    "## Jupyteri märkmik (notebook)\n",
    "\n",
    "\n",
    "*Jupyteri märkmikud* sisaldavad vormindatud teksti, programmikoodi ja selle väljundit. Seega hoitakse tulemused ja kood koos, on lihtne täiendada märkmikku interaktiivselt uue koodiga vastavalt saadud tulemustele ja lisada kvormindatud tekstina kommentaare.  \n",
    "\n",
    "Väljund võib olla tekst või pilt. Kasutaja sisestab koodi või dokumentatsiooni lahtritesse (*cells*), mis on eri tüüpi: kood, markdown. \n",
    "\n",
    "See on *markdown* lahter.\n",
    "\n",
    "Allpool on koodi lahter.\n"
   ]
  },
  {
   "cell_type": "code",
   "execution_count": 2,
   "metadata": {},
   "outputs": [
    {
     "name": "stdout",
     "output_type": "stream",
     "text": [
      "n \t n-s kahe aste\n",
      "0 \t 1\n",
      "1 \t 2\n",
      "2 \t 4\n",
      "3 \t 8\n",
      "4 \t 16\n",
      "5 \t 32\n",
      "6 \t 64\n",
      "7 \t 128\n"
     ]
    }
   ],
   "source": [
    "# See on Pythoni kood, järgneb väljund\n",
    "print(\"n \\t n-s kahe aste\")\n",
    "for n in range(8):\n",
    "    print(n, \"\\t\", 2**n)"
   ]
  },
  {
   "cell_type": "markdown",
   "metadata": {},
   "source": [
    "Lahtrite käivitamine (*Running*) annab väljundi ja muudab muutujate väärtusi. Selleks on *Cell* menüüs käsud Run Cells, Run All, Run All Above, Run All Below. Ctrl-Enter klahvikombinatsioon käivitab valitud lahtri. Käivitamise järjekord on oluline: kui näiteks ülemised lahtrid, mis omistavad väärtused alumiste lahtrite poolt kasutatavatele muutujatele pole käivitatud, siis alumised lahtrid ei tööta korrektselt. Run All on selles mõttes ohutuim valik, aga tihti aeglane."
   ]
  },
  {
   "cell_type": "markdown",
   "metadata": {},
   "source": [
    "Lahtrid võivad sisaldada *LaTeXi valemeid*, nagu: \n",
    "$$\\rho = \\sqrt{x^2 + y^2}$$"
   ]
  },
  {
   "cell_type": "markdown",
   "metadata": {},
   "source": [
    "On ka võimalik lisada linke ja pilte:\n",
    "\n",
    "[Link to IPython](http://ipython.org)\n",
    "\n",
    "[Markdown Cheat Sheet](http://nestacms.com/docs/creating-content/markdown-cheat-sheet)\n",
    "\n",
    "<img src=\"https://www.python.org/static/img/python-logo.png\">\n",
    "\n",
    "\n",
    "ja Youtube videoid:"
   ]
  },
  {
   "cell_type": "code",
   "execution_count": 1,
   "metadata": {},
   "outputs": [
    {
     "data": {
      "image/jpeg": "[encoded data removed]",
      "text/html": [
       "\n",
       "        <iframe\n",
       "            width=\"400\"\n",
       "            height=\"300\"\n",
       "            src=\"https://www.youtube.com/embed/XkXXpaVpNSc\"\n",
       "            frameborder=\"0\"\n",
       "            allowfullscreen\n",
       "        ></iframe>\n",
       "        "
      ],
      "text/plain": [
       "<IPython.lib.display.YouTubeVideo at 0x7fc8c7025d68>"
      ]
     },
     "execution_count": 1,
     "metadata": {},
     "output_type": "execute_result"
    }
   ],
   "source": [
    "\n",
    "from IPython.display import YouTubeVideo\n",
    "YouTubeVideo('XkXXpaVpNSc')\n"
   ]
  },
  {
   "cell_type": "markdown",
   "metadata": {},
   "source": [
    "Märkmiku võib salvestada interaktiivse .ipynb failina või staatilise html või pdf failina."
   ]
  },
  {
   "cell_type": "markdown",
   "metadata": {},
   "source": [
    "# IPythoni taristu\n",
    "\n",
    "IPythoni taristu koosneb:\n",
    "* Jupyteri märkmik, mis toetab üle 40 programmeerimiskeele.\n",
    "* Standard Python\n",
    "* [SciPy stack](http://www.scipy.org/index.html) teadus ja andmeanalüüsi moodulid:\n",
    "  * NumPy: N-dimensionaalne massiiv, maatriksarvutused \n",
    "  * SciPy: teadusarvutused, statistika jne.\n",
    "  * Matplotlib: graafikud\n",
    "  * pandas: andmeanalüüs, dataframe andmestruktuur\n",
    "  * Sympy: sümbolmatemaatika, diferentsiaal- ja integraalarvutus\n",
    "  * scikit-learn: andmekaeve, masinõpe\n",
    "  ...\n",
    "  \n",
    "Lihtne viis neid installeerida on  [Anaconda](https://www.anaconda.com/distribution/) Pyhtoni distributsioon. Saadaval ka ülikooli Application Catalogist.        "
   ]
  },
  {
   "cell_type": "code",
   "execution_count": 2,
   "metadata": {},
   "outputs": [
    {
     "name": "stdout",
     "output_type": "stream",
     "text": [
      "Array x\n",
      " [-20 -19 -18 -17 -16 -15 -14 -13 -12 -11 -10  -9  -8  -7  -6  -5  -4  -3\n",
      "  -2  -1   0   1   2   3   4   5   6   7   8   9  10  11  12  13  14  15\n",
      "  16  17  18  19  20]\n",
      "Array y\n",
      " [-7920 -6779 -5752 -4833 -4016 -3295 -2664 -2117 -1648 -1251  -920  -649\n",
      "  -432  -263  -136   -45    16    53    72    79    80    81    88   107\n",
      "   144   205   296   423   592   809  1080  1411  1808  2277  2824  3455\n",
      "  4176  4993  5912  6939  8080]\n"
     ]
    },
    {
     "data": {
      "text/plain": [
       "[<matplotlib.lines.Line2D at 0x7fc8902831d0>]"
      ]
     },
     "execution_count": 2,
     "metadata": {},
     "output_type": "execute_result"
    },
    {
     "data": {
      "image/png": "[encoded data removed]",
      "text/plain": [
       "<Figure size 432x288 with 1 Axes>"
      ]
     },
     "metadata": {
      "needs_background": "light"
     },
     "output_type": "display_data"
    }
   ],
   "source": [
    "# Näide numpy massivide and matplotlib graafikutega\n",
    "\n",
    "import numpy as np\n",
    "from matplotlib import pyplot as plt\n",
    "%matplotlib inline\n",
    "x = np.arange(-20,21)\n",
    "y = x**3 + 80\n",
    "print(\"Array x\\n\", x)\n",
    "print(\"Array y\\n\", y)\n",
    "plt.plot(x, y)"
   ]
  },
  {
   "cell_type": "markdown",
   "metadata": {},
   "source": [
    "## Üldotstarbelise keele (Python) eelised\n",
    "\n",
    "Selline interaktiivne stiil programmeerimiseks ei ole uus, vahendid, nagu MATLAB, on vanad ja hästi tuntud.\n",
    "\n",
    "Samas on üldotstarbelisel keelel mitmeid eeliseid:\n",
    "* Andmete kogumine. Web crawlerite jms programmeerimine on Pythonis lihtne.\n",
    "* Andmete teisendamine. Python omab võimsaid standardmooduleid failitöötluseks ja andmeteisenduseks.\n",
    "...\n",
    "\n",
    "Jupyteri märkmikul on oma eelised:\n",
    "* Kasutatav pilvest ja veebist.\n",
    "* Salvestab märkimkud pdf ja html formaati.\n",
    "* Toetab erinevaid programmeerimiskeeli.\n",
    "* Tööaja mõõtmise tugi\n",
    "..."
   ]
  }
 ],
 "metadata": {
  "kernelspec": {
   "display_name": "Python 3",
   "language": "python",
   "name": "python3"
  },
  "language_info": {
   "codemirror_mode": {
    "name": "ipython",
    "version": 3
   },
   "file_extension": ".py",
   "mimetype": "text/x-python",
   "name": "python",
   "nbconvert_exporter": "python",
   "pygments_lexer": "ipython3",
   "version": "3.6.9"
  }
 },
 "nbformat": 4,
 "nbformat_minor": 1
}
