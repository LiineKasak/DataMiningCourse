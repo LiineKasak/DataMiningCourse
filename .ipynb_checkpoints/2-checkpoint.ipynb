{
 "cells": [
  {
   "cell_type": "markdown",
   "metadata": {},
   "source": [
    "# 2. Andmestruktuurid ja tsüklid Pythonis\n",
    "\n",
    "Siin vaatleme olulisemaid Pythoni baasandmestruktuure, nagu:\n",
    "* [list (loend)](https://docs.python.org/3/tutorial/introduction.html#lists)\n",
    "* [string (sõne)](https://docs.python.org/3/tutorial/introduction.html#strings)\n",
    "* [tuple (ennik)](https://docs.python.org/3/tutorial/datastructures.html#tuples-and-sequences)\n",
    "* [dictionary (sõnastik)](https://docs.python.org/3/tutorial/datastructures.html#dictionaries). \n",
    "\n",
    "Lisaks vaatleme me [for-tsüklit](https://docs.python.org/3/tutorial/controlflow.html#for-statements), mitmest omistamist, [faile](https://docs.python.org/3/tutorial/inputoutput.html#reading-and-writing-files) ja [list comprehension'it (loendi genereerimist)](https://docs.python.org/3/tutorial/datastructures.html#list-comprehensions)."
   ]
  },
  {
   "cell_type": "markdown",
   "metadata": {},
   "source": [
    "## 2.1. Stringid, listid ja tsüklid\n",
    "\n",
    "String (ehk sõne) on tekstijada ehk märgijada. String on jutumärkide vahel ('abc', \"abc\"). Stringidele võib rakendada ka operatsioone + (liitmine omavahel), * (korrutamine arvuga)."
   ]
  },
  {
   "cell_type": "code",
   "execution_count": 35,
   "metadata": {},
   "outputs": [
    {
     "data": {
      "text/plain": [
       "'Andmekaeve'"
      ]
     },
     "execution_count": 35,
     "metadata": {},
     "output_type": "execute_result"
    }
   ],
   "source": [
    "s1 = \"Andme\"\n",
    "s2 = 'kaeve'\n",
    "aine = s1 + s2\n",
    "aine"
   ]
  },
  {
   "cell_type": "markdown",
   "metadata": {},
   "source": [
    "Stringide formateerimine tähendab väärtuse sisestamist mallstringi. Siin me vaatleme % notatsiooni. On olemas ka uuem format() notatsioon. Sisestatavat väärtust (lünka) mallstringis märgivad sümbolid %s (string), %f (float reaalarvud), %d (double reaalarv), %i (integer täisarv). Notatsioon `mallstring % (v1, v2,...)` täidab lüngad sobivat tüüpi väärtustega v1, v2."
   ]
  },
  {
   "cell_type": "code",
   "execution_count": 36,
   "metadata": {},
   "outputs": [
    {
     "name": "stdout",
     "output_type": "stream",
     "text": [
      "Tere tali!\n",
      "Nimi: Mr. X, Vanus: 33\n",
      "Nimi: Ms. Z, Vanus: 23\n"
     ]
    }
   ],
   "source": [
    "mall = \"Tere %s!\"\n",
    "print(mall % \"tali\")\n",
    "objekti_mall = \"Nimi: %s, Vanus: %i\"\n",
    "print(objekti_mall % (\"Mr. X\", 33))\n",
    "print(objekti_mall % (\"Ms. Z\", 23))"
   ]
  },
  {
   "cell_type": "markdown",
   "metadata": {},
   "source": [
    "Pythoni jadade (sequence: string, list, tuple, numpy.array, pandas.Dataframe) elemendid on kõik ligipääsetavad sarnase notatsiooni abil: `jada[indeks]` .\n",
    "Indeksi väärtused esimesest viimase jada elemendini on täisarvud 0...n-1, kus n on jada elementide arv. Indeksi väärtused viimasest esimese jada elemendini on täisarvud -1...-n, kus n on jada elementide arv. Jada elementide arvu leidmiseks on funktsioon `len(jada)`."
   ]
  },
  {
   "cell_type": "code",
   "execution_count": 37,
   "metadata": {},
   "outputs": [
    {
     "name": "stdout",
     "output_type": "stream",
     "text": [
      "Stringi aine märkide arv: 10\n",
      "A e d\n"
     ]
    }
   ],
   "source": [
    "print(\"Stringi aine märkide arv:\", len(aine))\n",
    "print(aine[0], aine[-1], aine[2])"
   ]
  },
  {
   "cell_type": "markdown",
   "metadata": {},
   "source": [
    "Stringis võib kasutada ka erisümboleid:\n",
    "* \\n - reavahetus\n",
    "* \\t - tabulatsioon\n",
    "..."
   ]
  },
  {
   "cell_type": "code",
   "execution_count": 38,
   "metadata": {},
   "outputs": [
    {
     "name": "stdout",
     "output_type": "stream",
     "text": [
      "SL \t SW \t PL \t PW \n",
      "0.3 \t 0.2 \t 0.5 \t 0.6\n"
     ]
    }
   ],
   "source": [
    "tabel = \"SL \\t SW \\t PL \\t PW \\n0.3 \\t 0.2 \\t 0.5 \\t 0.6\"\n",
    "print(tabel)"
   ]
  },
  {
   "cell_type": "markdown",
   "metadata": {},
   "source": [
    "Lõik (slice) Pythoni jadast on kujul `jada[algus_indeks : lõpu_indeks]` ja sisaldab elemente algus_indeksist (kaasa arvatud) lõpu_indeksini (välja arvatud). Nii algus_indeks kui ka lõpu_indeks võivad ära jääda."
   ]
  },
  {
   "cell_type": "code",
   "execution_count": 39,
   "metadata": {},
   "outputs": [
    {
     "name": "stdout",
     "output_type": "stream",
     "text": [
      "dmekae\n",
      "dmekaeve\n",
      "Andmekae\n",
      "Andmekaeve\n"
     ]
    }
   ],
   "source": [
    "print(aine[2:-2])\n",
    "print(aine[2:])\n",
    "print(aine[:-2])\n",
    "print(aine[:])"
   ]
  },
  {
   "cell_type": "markdown",
   "metadata": {},
   "source": [
    "List (loend) on suvaliste objektide (stringid, arvud, listid, mis iganes) jada. List defineeritakse kujul `[objekt1, objekt2, objekt3,...]`. Ligipääs listi elementidele käib läbi indeksite, nagu kõikidel Pythoni jadadel. Stringi tükeldab alamstringide listiks stringi meetod `s.split(eraldaja_str)`."
   ]
  },
  {
   "cell_type": "code",
   "execution_count": 40,
   "metadata": {},
   "outputs": [
    {
     "name": "stdout",
     "output_type": "stream",
     "text": [
      "['Andm', 'ka', 'v', '']\n",
      "['Nimi: %s', ' Vanus: %i']\n"
     ]
    }
   ],
   "source": [
    "print(aine.split(\"e\"))\n",
    "print(objekti_mall.split(\",\"))\n"
   ]
  },
  {
   "cell_type": "code",
   "execution_count": 41,
   "metadata": {},
   "outputs": [
    {
     "name": "stdout",
     "output_type": "stream",
     "text": [
      "[1, 'string', []]\n",
      "['string', []]\n"
     ]
    }
   ],
   "source": [
    "oma_list = [1, \"string\", []]\n",
    "print(oma_list)\n",
    "print(oma_list[1:])"
   ]
  },
  {
   "cell_type": "markdown",
   "metadata": {},
   "source": [
    "Funktsioon `range(alumine, ülemine, samm)` tekitab arvujada alumisest arvust (kaasa arvatud)  ülemiseni (välja arvatud), kus need kasvavad sammu haaval (alumine piir ja samm võivad ära jääda, vaikeväärtused on alumine=0 ja samm=1). range() tagastab spetsiifilise range() jada, mille saab listiks konverteerida funktsiooniga `list()`."
   ]
  },
  {
   "cell_type": "code",
   "execution_count": 42,
   "metadata": {},
   "outputs": [
    {
     "data": {
      "text/plain": [
       "[0, 1, 2, 3, 4]"
      ]
     },
     "execution_count": 42,
     "metadata": {},
     "output_type": "execute_result"
    }
   ],
   "source": [
    "list(range(5))"
   ]
  },
  {
   "cell_type": "code",
   "execution_count": 43,
   "metadata": {},
   "outputs": [
    {
     "data": {
      "text/plain": [
       "[100, 105, 110, 115, 120, 125, 130, 135, 140, 145]"
      ]
     },
     "execution_count": 43,
     "metadata": {},
     "output_type": "execute_result"
    }
   ],
   "source": [
    "list(range(100, 150, 5))"
   ]
  },
  {
   "cell_type": "markdown",
   "metadata": {},
   "source": [
    "**for** tsükkel käib läbi kõik jada elemendid, omistab need tsüklimuutujale väärtuseks ja käivitab **for** ploki."
   ]
  },
  {
   "cell_type": "code",
   "execution_count": 44,
   "metadata": {},
   "outputs": [
    {
     "name": "stdout",
     "output_type": "stream",
     "text": [
      "A\n",
      "n\n",
      "d\n",
      "m\n",
      "e\n",
      "k\n",
      "a\n",
      "e\n",
      "v\n",
      "e\n"
     ]
    }
   ],
   "source": [
    "for mark in aine:\n",
    "    print(mark)"
   ]
  },
  {
   "cell_type": "code",
   "execution_count": 45,
   "metadata": {},
   "outputs": [
    {
     "name": "stdout",
     "output_type": "stream",
     "text": [
      "0 1\n",
      "1 2\n",
      "2 4\n",
      "3 8\n",
      "4 16\n",
      "5 32\n",
      "6 64\n",
      "7 128\n",
      "8 256\n",
      "9 512\n"
     ]
    }
   ],
   "source": [
    "for i in range(10):\n",
    "    x = 2**i\n",
    "    print(i, x)"
   ]
  },
  {
   "cell_type": "code",
   "execution_count": 46,
   "metadata": {},
   "outputs": [
    {
     "name": "stdout",
     "output_type": "stream",
     "text": [
      "1\n",
      "string\n",
      "[]\n"
     ]
    }
   ],
   "source": [
    "for obj in oma_list: print(obj)"
   ]
  },
  {
   "cell_type": "markdown",
   "metadata": {},
   "source": [
    "Mitmene omistamine on üherealine viis omistada väärtused mitmele muutujale kujul `muutuja1, muutuja2, muutuja3 = väärtus1, väärtus2, väärtus3`. Kõik väärtused arvutatakse välja enne omistamist, mis võib vältida vajadust abimuutujate järele."
   ]
  },
  {
   "cell_type": "code",
   "execution_count": 47,
   "metadata": {},
   "outputs": [
    {
     "name": "stdout",
     "output_type": "stream",
     "text": [
      "string []\n"
     ]
    }
   ],
   "source": [
    "x1, x2 = oma_list[1], oma_list[2]\n",
    "print(x1, x2)"
   ]
  },
  {
   "cell_type": "code",
   "execution_count": 48,
   "metadata": {},
   "outputs": [
    {
     "name": "stdout",
     "output_type": "stream",
     "text": [
      "string []\n"
     ]
    }
   ],
   "source": [
    "x1 = oma_list[1]\n",
    "x2 = oma_list[2]\n",
    "print(x1, x2)"
   ]
  },
  {
   "cell_type": "code",
   "execution_count": 49,
   "metadata": {},
   "outputs": [
    {
     "data": {
      "text/plain": [
       "[1, [], 'string']"
      ]
     },
     "execution_count": 49,
     "metadata": {},
     "output_type": "execute_result"
    }
   ],
   "source": [
    "oma_list[2], oma_list[1] = oma_list[1], oma_list[2] # vahetus\n",
    "oma_list"
   ]
  },
  {
   "cell_type": "code",
   "execution_count": 50,
   "metadata": {},
   "outputs": [
    {
     "data": {
      "text/plain": [
       "[1, [], []]"
      ]
     },
     "execution_count": 50,
     "metadata": {},
     "output_type": "execute_result"
    }
   ],
   "source": [
    "# Kahe reaga see nii lihtsalt ei tööta ja on vaja abimuutujat! \n",
    "oma_list[2] = oma_list[1]\n",
    "oma_list[1] = oma_list[2] # oma_list[2] on juba muutunud!\n",
    "oma_list"
   ]
  },
  {
   "cell_type": "markdown",
   "metadata": {},
   "source": [
    "##  Ülesanne 2.1\n",
    "\n",
    "Käivitage järgnev koodilahter:"
   ]
  },
  {
   "cell_type": "code",
   "execution_count": 1,
   "metadata": {},
   "outputs": [],
   "source": [
    "andmerida = '6.9, 3.1, 5.1, 2.3, %s\\n'"
   ]
  },
  {
   "cell_type": "markdown",
   "metadata": {},
   "source": [
    "a.) Omistage muutujale *setosa_str* väärtuseks  *andmerida*, kus  `%s` on asendatud stringiga `\"Iris-setosa\"` kasutades formateerimisoperaatorit `%`. Väljastage *setosa_str* väärtus."
   ]
  },
  {
   "cell_type": "code",
   "execution_count": null,
   "metadata": {
    "collapsed": true
   },
   "outputs": [],
   "source": [
    "setosa_str = andmerida % 'Iris'"
   ]
  },
  {
   "cell_type": "markdown",
   "metadata": {},
   "source": [
    "b.) Teisendage *setosa_str* stringide listiks tükeldades selle *split(\",\")* meetodi abil komade järgi. Omistage tulem muutujale *setosa_list*. Trükkige **for** tsükli ja *print()* käsuga kõik selle listi elemendid.  "
   ]
  },
  {
   "cell_type": "code",
   "execution_count": null,
   "metadata": {
    "collapsed": true
   },
   "outputs": [],
   "source": []
  },
  {
   "cell_type": "markdown",
   "metadata": {},
   "source": [
    "c.) Omistage muutujatele *petal_l, petal_w* mitmese omistamise abil listi *setosa_list* elemendid indeksitega 2 ja 3. Väljastage *petal_l, petal_w* väärtused."
   ]
  },
  {
   "cell_type": "code",
   "execution_count": null,
   "metadata": {
    "collapsed": true
   },
   "outputs": [],
   "source": []
  },
  {
   "cell_type": "markdown",
   "metadata": {},
   "source": [
    "## 2.2. List comprehension, muud andmestruktuurid, failid, tüübiteisendused"
   ]
  },
  {
   "cell_type": "markdown",
   "metadata": {},
   "source": [
    "## Ülesanne 2.2\n",
    "\n",
    "a.) Laadige aadressilt https://archive.ics.uci.edu/ml/machine-learning-databases/iris/ alla fail *Iris.data* ja salvestage samasse kataloogi kui see märkmik. Järgnevas koodilahtris avage see fail lugemiseks ja lugege selle read sisse stringide listina *tabeli_read*: esimene element listis vastab faili esimesele reale, teine element teisele reale jne. Kuvagege väljundlahtris listi *tabeli_read* elemendid indeksitega -10: (kümme viimast rida failis).\n",
    "\n",
    "Näiteks:\n",
    "\n",
    "`['6.9,3.1,5.1,2.3,Iris-virginica\\n',\n",
    " '5.8,2.7,5.1,1.9,Iris-virginica\\n',\n",
    " '6.8,3.2,5.9,2.3,Iris-virginica\\n', ...`\n"
   ]
  },
  {
   "cell_type": "code",
   "execution_count": null,
   "metadata": {
    "collapsed": true
   },
   "outputs": [],
   "source": []
  },
  {
   "cell_type": "markdown",
   "metadata": {},
   "source": [
    "b.) Arvutage *tabeli_read* alusel kaks uut listi. List *andmed* peab olema list ridadele vastavatest arvude listidest (listide list). Reale vastav arvude list peab sisaldama nelja esimest komadega eraldatud alamstringi (stringi meetod *split(',')*), mis on teisendatud neljaks reaalarvuks (*float()*). \n",
    "\n",
    " \n",
    "List *klassid* peab sisaldama ridade lõpus asuvaid klassistringe ('Iris-setosa\\n' jne.). Mõlemal juhul ignoreerige viimast, tühja rida ('\\n'). Väljastage listi *andmed* elemendid indeksitega 0:10.\n",
    "\n",
    "Näiteks\n",
    "\n",
    "`[[5.1, 3.5, 1.4, 0.2],\n",
    " [4.9, 3.0, 1.4, 0.2],\n",
    " [4.7, 3.2, 1.3, 0.2],...`\n",
    " \n",
    " \n",
    "Väljastage kõik listi *klassid* elemendid.\n",
    "\n",
    "Näiteks\n",
    "\n",
    "`['Iris-setosa\\n',\n",
    " 'Iris-setosa\\n',\n",
    " 'Iris-setosa\\n',\n",
    " 'Iris-setosa\\n',...`\n"
   ]
  },
  {
   "cell_type": "code",
   "execution_count": null,
   "metadata": {
    "collapsed": true,
    "scrolled": true
   },
   "outputs": [],
   "source": []
  },
  {
   "cell_type": "code",
   "execution_count": null,
   "metadata": {
    "collapsed": true
   },
   "outputs": [],
   "source": []
  }
 ],
 "metadata": {
  "kernelspec": {
   "display_name": "Python 3",
   "language": "python",
   "name": "python3"
  },
  "language_info": {
   "codemirror_mode": {
    "name": "ipython",
    "version": 3
   },
   "file_extension": ".py",
   "mimetype": "text/x-python",
   "name": "python",
   "nbconvert_exporter": "python",
   "pygments_lexer": "ipython3",
   "version": "3.6.9"
  }
 },
 "nbformat": 4,
 "nbformat_minor": 2
}
